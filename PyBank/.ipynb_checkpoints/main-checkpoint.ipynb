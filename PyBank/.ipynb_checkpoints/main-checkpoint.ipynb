{
 "cells": [
  {
   "cell_type": "code",
   "execution_count": 1,
   "id": "d41a7895-a222-48a6-878b-7e7e73af8d47",
   "metadata": {},
   "outputs": [],
   "source": [
    "import pandas as pd"
   ]
  },
  {
   "cell_type": "code",
   "execution_count": 3,
   "id": "0baa1a94-a9d9-455e-89e4-a580d9dd6502",
   "metadata": {},
   "outputs": [
    {
     "data": {
      "text/html": [
       "<div>\n",
       "<style scoped>\n",
       "    .dataframe tbody tr th:only-of-type {\n",
       "        vertical-align: middle;\n",
       "    }\n",
       "\n",
       "    .dataframe tbody tr th {\n",
       "        vertical-align: top;\n",
       "    }\n",
       "\n",
       "    .dataframe thead th {\n",
       "        text-align: right;\n",
       "    }\n",
       "</style>\n",
       "<table border=\"1\" class=\"dataframe\">\n",
       "  <thead>\n",
       "    <tr style=\"text-align: right;\">\n",
       "      <th></th>\n",
       "      <th>Profit/Losses</th>\n",
       "    </tr>\n",
       "    <tr>\n",
       "      <th>Date</th>\n",
       "      <th></th>\n",
       "    </tr>\n",
       "  </thead>\n",
       "  <tbody>\n",
       "    <tr>\n",
       "      <th>2010-01-01</th>\n",
       "      <td>867884</td>\n",
       "    </tr>\n",
       "    <tr>\n",
       "      <th>2010-02-01</th>\n",
       "      <td>984655</td>\n",
       "    </tr>\n",
       "    <tr>\n",
       "      <th>2010-03-01</th>\n",
       "      <td>322013</td>\n",
       "    </tr>\n",
       "    <tr>\n",
       "      <th>2010-04-01</th>\n",
       "      <td>-69417</td>\n",
       "    </tr>\n",
       "    <tr>\n",
       "      <th>2010-05-01</th>\n",
       "      <td>310503</td>\n",
       "    </tr>\n",
       "  </tbody>\n",
       "</table>\n",
       "</div>"
      ],
      "text/plain": [
       "            Profit/Losses\n",
       "Date                     \n",
       "2010-01-01         867884\n",
       "2010-02-01         984655\n",
       "2010-03-01         322013\n",
       "2010-04-01         -69417\n",
       "2010-05-01         310503"
      ]
     },
     "execution_count": 3,
     "metadata": {},
     "output_type": "execute_result"
    }
   ],
   "source": [
    "df = pd.read_csv('budget_data.csv',index_col=0,parse_dates=True)\n",
    "df.head()\n",
    "            \n",
    "            "
   ]
  },
  {
   "cell_type": "code",
   "execution_count": 55,
   "id": "a1ca89a6-25aa-478f-b699-d5d7336a2313",
   "metadata": {},
   "outputs": [
    {
     "name": "stdout",
     "output_type": "stream",
     "text": [
      "Total Months: 86\n"
     ]
    }
   ],
   "source": [
    "# TOTAL NUMBER OF MONTHS\n",
    "total_months  = len(df)\n",
    "print(f\"Total Months: {total_months}\")"
   ]
  },
  {
   "cell_type": "code",
   "execution_count": 56,
   "id": "5063a5a7-61a0-4ad3-a65c-49973ca30976",
   "metadata": {},
   "outputs": [
    {
     "name": "stdout",
     "output_type": "stream",
     "text": [
      "Total: $38,382,578\n"
     ]
    }
   ],
   "source": [
    "# NET PROFIT AND LOSS\n",
    "net_profit_loss = sum(df[\"Profit/Losses\"])\n",
    "print(f\"Total: ${net_profit_loss:,.0f}\")"
   ]
  },
  {
   "cell_type": "code",
   "execution_count": 57,
   "id": "d5d441ec-4ce6-4953-83b7-fff699ed77ad",
   "metadata": {},
   "outputs": [
    {
     "name": "stdout",
     "output_type": "stream",
     "text": [
      "Average Change: $-2315.12\n"
     ]
    }
   ],
   "source": [
    "# AVERAGE MONTHLY CHANGE\n",
    "monthly_change = df['Profit/Losses'] - df['Profit/Losses'].shift(1)\n",
    "monthly_change.dropna(inplace=True)\n",
    "avg_monthly_change = round(sum(monthly_change)/len(monthly_change),2)\n",
    "print(f\"Average Change: ${avg_monthly_change}\")"
   ]
  },
  {
   "cell_type": "code",
   "execution_count": 91,
   "id": "71207921-7ead-44ed-a911-9c2bae59d0ce",
   "metadata": {},
   "outputs": [],
   "source": [
    "# MAX Change\n",
    "\n",
    "# Shifting one down and subtracting\n",
    "monthly_change_df = df - df.shift(1)\n",
    "# Finding the index of the max change\n",
    "max_change = monthly_change_df.iloc[monthly_change_df['Profit/Losses'].argmax()]\n",
    "# Assigning the date and max_change values to a variable\n",
    "date, max_change = max_change.name, max_change.iloc[0]\n",
    "# DateTime/Timestamp formatting to a string (https://www.programiz.com/python-programming/datetime/strftime)\n",
    "date = date.strftime(\"%b-%Y\")\n",
    "# Converting a float to an integer\n",
    "max_change = int(max_change)\n",
    "# Printing the final result\n",
    "print(f\"Greatest Increase in Profits: {date} (${max_change})\")"
   ]
  },
  {
   "cell_type": "code",
   "execution_count": null,
   "id": "7e6918de-afa6-46a2-bec6-a249cb2ba26b",
   "metadata": {},
   "outputs": [],
   "source": [
    "results  = \"\"\"ABC\"\"\"\n",
    "with open('results.txt','w') as f:\n",
    "    f.write(results)\n",
    "    f.close()"
   ]
  },
  {
   "cell_type": "code",
   "execution_count": null,
   "id": "38e34bc3-88e9-44fc-aba9-21feb7ce9b30",
   "metadata": {},
   "outputs": [],
   "source": []
  }
 ],
 "metadata": {
  "kernelspec": {
   "display_name": "Python 3 (ipykernel)",
   "language": "python",
   "name": "python3"
  },
  "language_info": {
   "codemirror_mode": {
    "name": "ipython",
    "version": 3
   },
   "file_extension": ".py",
   "mimetype": "text/x-python",
   "name": "python",
   "nbconvert_exporter": "python",
   "pygments_lexer": "ipython3",
   "version": "3.9.12"
  }
 },
 "nbformat": 4,
 "nbformat_minor": 5
}
