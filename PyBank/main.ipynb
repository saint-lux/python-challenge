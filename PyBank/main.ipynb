{
 "cells": [
  {
   "cell_type": "code",
   "execution_count": 24,
   "id": "9422152b-af53-431d-a6f8-13d2cb8060b1",
   "metadata": {},
   "outputs": [],
   "source": [
    "import pandas as pd"
   ]
  },
  {
   "cell_type": "code",
   "execution_count": 24,
   "id": "5f75a11f-aa73-4f0a-b579-ae6f8f3a0d40",
   "metadata": {},
   "outputs": [],
   "source": [
    "df = pd.read_csv('budget_data.csv',index_col=0,parse_dates=True)            "
   ]
  },
  {
   "cell_type": "code",
   "execution_count": 24,
   "id": "f21c2e88-04dd-4dbb-84a2-0977977418c6",
   "metadata": {},
   "outputs": [],
   "source": [
    "# TOTAL NUMBER OF MONTHS\n",
    "total_months  = len(df)"
   ]
  },
  {
   "cell_type": "code",
   "execution_count": 24,
   "id": "00bb7eac-75ee-4ab3-a6d2-d9baefc36929",
   "metadata": {},
   "outputs": [],
   "source": [
    "# NET PROFIT AND LOSS\n",
    "net_profit_loss = sum(df[\"Profit/Losses\"])"
   ]
  },
  {
   "cell_type": "code",
   "execution_count": 24,
   "id": "d54b0e22-68e7-4e79-8c39-2266d9e28e7a",
   "metadata": {},
   "outputs": [],
   "source": [
    "# AVERAGE MONTHLY CHANGE\n",
    "monthly_change = df['Profit/Losses'] - df['Profit/Losses'].shift(1)\n",
    "monthly_change.dropna(inplace=True)\n",
    "avg_monthly_change = round(sum(monthly_change)/len(monthly_change),2)"
   ]
  },
  {
   "cell_type": "code",
   "execution_count": 24,
   "id": "7894c292-74c2-4189-9fcd-7a9b18c5af66",
   "metadata": {},
   "outputs": [],
   "source": [
    "# Shifting one down and subtracting to get the monthly changes >> using for max_change and min_change\n",
    "monthly_change_df = df - df.shift(1)"
   ]
  },
  {
   "cell_type": "code",
   "execution_count": 24,
   "id": "50ef388d-6d6e-49b0-9719-7934e6de4b8c",
   "metadata": {},
   "outputs": [],
   "source": [
    "# MAX Change\n",
    "\n",
    "# Finding the index of the max change\n",
    "max_change = monthly_change_df.iloc[monthly_change_df['Profit/Losses'].argmax()]\n",
    "# Assigning the date and max_change values to a variable\n",
    "date, max_change = max_change.name, max_change.iloc[0]\n",
    "# DateTime/Timestamp formatting to a string (https://www.programiz.com/python-programming/datetime/strftime)\n",
    "max_date = date.strftime(\"%b-%Y\")\n",
    "# Converting a float to an integer\n",
    "max_change = int(max_change)\n",
    "# Printing the final result"
   ]
  },
  {
   "cell_type": "code",
   "execution_count": 24,
   "id": "a2f6b994-dba3-4f04-a720-7eb44b456cc7",
   "metadata": {},
   "outputs": [],
   "source": [
    "# MIN Change\n",
    "# Finding the index of the min change\n",
    "min_change = monthly_change_df.iloc[monthly_change_df['Profit/Losses'].argmin()]\n",
    "# Assigning the date and min_change values to a variable\n",
    "date, min_change = min_change.name, min_change.iloc[0]\n",
    "# DateTime/Timestamp formatting to a string (https://www.programiz.com/python-programming/datetime/strftime)\n",
    "min_date = date.strftime(\"%b-%Y\")\n",
    "# Converting a float to an integer\n",
    "min_change = int(min_change)\n",
    "# Printing the final result"
   ]
  },
  {
   "cell_type": "code",
   "execution_count": 24,
   "id": "7cefdc03-6074-4589-91ce-2f258fd9a91f",
   "metadata": {},
   "outputs": [],
   "source": [
    "# Printing Results\n",
    "print(\"Financial Analysis\\n\\n----------------------------\\n\")\n",
    "print(f\"Total Months: {total_months}\")\n",
    "print()\n",
    "print(f\"Total: ${net_profit_loss:,.0f}\")\n",
    "print()\n",
    "print(f\"Average Change: ${avg_monthly_change}\")\n",
    "print()\n",
    "print(f\"Greatest Increase in Profits: {max_date} (${max_change})\")\n",
    "print()\n",
    "print(f\"Greatest Decrease in Profits: {min_date} (${min_change})\")"
   ]
  },
  {
   "cell_type": "code",
   "execution_count": 24,
   "id": "52ae7ee4-f5bd-46ff-8933-cea328eb0042",
   "metadata": {},
   "outputs": [],
   "source": [
    "# RESULTS\n",
    "\n",
    "line0 = \"Financial Analysis\\n\\n----------------------------\\n\"\n",
    "line1 = f\"Total Months: {total_months}\\n\"\n",
    "line2 = f\"Total: ${net_profit_loss:,.0f}\\n\"\n",
    "line3 = f\"Average Change: ${avg_monthly_change}\\n\"\n",
    "line4 = f\"Greatest Increase in Profits: {max_date} (${max_change})\\n\"\n",
    "line5 = f\"Greatest Decrease in Profits: {min_date} (${min_change})\\n\""
   ]
  },
  {
   "cell_type": "code",
   "execution_count": 24,
   "id": "4e272272-f5e3-46d3-a7a5-840f2b34fba1",
   "metadata": {},
   "outputs": [],
   "source": [
    "results  = f\"\"\"{line0}\\n{line1}\\n{line2}\\n{line3}\\n{line4}\\n{line5}\\n\"\"\"\n",
    "with open('results.txt','w') as f:\n",
    "    f.write(results)\n",
    "    f.close()"
   ]
  },
  {
   "cell_type": "code",
   "execution_count": null,
   "id": "d15aaf86-84ba-4a1a-8383-4f5468d27dd6",
   "metadata": {},
   "outputs": [],
   "source": []
  }
 ],
 "metadata": {
  "kernelspec": {
   "display_name": "Python 3 (ipykernel)",
   "language": "python",
   "name": "python3"
  },
  "language_info": {
   "codemirror_mode": {
    "name": "ipython",
    "version": 3
   },
   "file_extension": ".py",
   "mimetype": "text/x-python",
   "name": "python",
   "nbconvert_exporter": "python",
   "pygments_lexer": "ipython3",
   "version": "3.9.12"
  }
 },
 "nbformat": 4,
 "nbformat_minor": 5
}
